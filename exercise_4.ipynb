{
 "cells": [
  {
   "cell_type": "markdown",
   "metadata": {},
   "source": [
    "# Exercise 4\n",
    "\n",
    "Work on this before the next lecture on 26 April. We will talk about questions, comments, and solutions during the exercise after the third lecture.\n",
    "\n",
    "Please do form study groups! When you do, make sure you can explain everything in your own words, do not simply copy&paste from others.\n",
    "\n",
    "The solutions to a lot of these problems can probably be found with Google. Please don't. You will not learn a lot by copy&pasting from the internet.\n",
    "\n",
    "If you want to get credit/examination on this course please upload your work to your GitHub repository for this course before the next lecture starts and post a link to your repository in [this thread](https://github.com/wildtreetech/advanced-computing-2018/issues/8). If you worked on things together with others please add their names to the notebook so we can see who formed groups.\n",
    "\n",
    "The overall idea of this exercise is to get you using and building convolutional neural networks."
   ]
  },
  {
   "cell_type": "markdown",
   "metadata": {},
   "source": [
    "## Question 1\n",
    "\n",
    "In the last exercise you built a neural network that can classify fashion items using only densely connected layers.\n",
    "\n",
    "Build on this by using convolutions, pooling, dropout, batch norm, etc in your neural network. Can you outperform your densely connected network?\n",
    "\n",
    "Start with a small network and a fraction of the data to check if you hooked everything up correctly. Don't go overboard with the size of the network either as even small networks take quite a while to train.\n",
    "\n",
    "(If you want to experiment with a free GPU checkout https://kaggle.com/kernels .)"
   ]
  },
  {
   "cell_type": "code",
   "execution_count": 6,
   "metadata": {},
   "outputs": [],
   "source": [
    "# plotting imports and setup\n",
    "%matplotlib inline\n",
    "import matplotlib.pyplot as plt\n",
    "plt.rcParams[\"figure.figsize\"] = (8, 8)\n",
    "plt.rcParams[\"font.size\"] = 14\n",
    "\n",
    "from sklearn.datasets import make_classification\n",
    "\n",
    "import numpy as np"
   ]
  },
  {
   "cell_type": "code",
   "execution_count": 2,
   "metadata": {},
   "outputs": [
    {
     "name": "stderr",
     "output_type": "stream",
     "text": [
      "Using TensorFlow backend.\n"
     ]
    }
   ],
   "source": [
    "# your code here\n",
    "from keras.datasets import fashion_mnist\n",
    "from sklearn.model_selection import train_test_split\n",
    "from keras import utils\n",
    "from keras.models import Model\n",
    "from keras.layers import Input, Dense, Activation, Flatten, Conv2D, MaxPool2D\n",
    "\n",
    "\n",
    "\n",
    "(X_train, y_train), (X_test, y_test) = fashion_mnist.load_data()\n",
    "\n",
    "X_train = X_train.reshape(X_train.shape[0], 28, 28, 1).astype(np.float64)\n",
    "X_test = X_test.reshape(X_test.shape[0], 28, 28, 1).astype(np.float64)\n",
    "\n",
    "#X_train = X_train.astype('float32')\n",
    "#X_test = X_test.astype('float32')\n",
    "X_train /= 255\n",
    "X_test /= 255\n",
    "\n",
    "X_train, X_val, y_train, y_val = train_test_split(X_train, y_train,test_size=10000,random_state=42)\n",
    "\n",
    "num_classes = 10\n",
    "y_train = utils.to_categorical(y_train, num_classes)\n",
    "y_val = utils.to_categorical(y_val, num_classes)"
   ]
  },
  {
   "cell_type": "code",
   "execution_count": 3,
   "metadata": {},
   "outputs": [
    {
     "name": "stdout",
     "output_type": "stream",
     "text": [
      "(50000, 28, 28, 1)\n",
      "\n",
      " First model with 1 convolution \n",
      "\n",
      "_________________________________________________________________\n",
      "Layer (type)                 Output Shape              Param #   \n",
      "=================================================================\n",
      "input_1 (InputLayer)         (None, 28, 28, 1)         0         \n",
      "_________________________________________________________________\n",
      "conv2d_1 (Conv2D)            (None, 24, 24, 32)        832       \n",
      "_________________________________________________________________\n",
      "max_pooling2d_1 (MaxPooling2 (None, 12, 12, 32)        0         \n",
      "_________________________________________________________________\n",
      "flatten_1 (Flatten)          (None, 4608)              0         \n",
      "_________________________________________________________________\n",
      "dense_1 (Dense)              (None, 256)               1179904   \n",
      "_________________________________________________________________\n",
      "dense_2 (Dense)              (None, 10)                2570      \n",
      "=================================================================\n",
      "Total params: 1,183,306\n",
      "Trainable params: 1,183,306\n",
      "Non-trainable params: 0\n",
      "_________________________________________________________________\n",
      "\n",
      " \n",
      " Second model with 2 convolutions \n",
      "\n",
      "_________________________________________________________________\n",
      "Layer (type)                 Output Shape              Param #   \n",
      "=================================================================\n",
      "input_2 (InputLayer)         (None, 28, 28, 1)         0         \n",
      "_________________________________________________________________\n",
      "conv2d_2 (Conv2D)            (None, 24, 24, 32)        832       \n",
      "_________________________________________________________________\n",
      "max_pooling2d_2 (MaxPooling2 (None, 12, 12, 32)        0         \n",
      "_________________________________________________________________\n",
      "conv2d_3 (Conv2D)            (None, 10, 10, 64)        18496     \n",
      "_________________________________________________________________\n",
      "max_pooling2d_3 (MaxPooling2 (None, 5, 5, 64)          0         \n",
      "_________________________________________________________________\n",
      "flatten_2 (Flatten)          (None, 1600)              0         \n",
      "_________________________________________________________________\n",
      "dense_3 (Dense)              (None, 256)               409856    \n",
      "_________________________________________________________________\n",
      "dense_4 (Dense)              (None, 10)                2570      \n",
      "=================================================================\n",
      "Total params: 431,754\n",
      "Trainable params: 431,754\n",
      "Non-trainable params: 0\n",
      "_________________________________________________________________\n"
     ]
    }
   ],
   "source": [
    "#Network Architecture\n",
    "print(X_train.shape)\n",
    "\n",
    "input_image = Input(shape=(28, 28, 1))\n",
    "x = Conv2D(32, 5, activation='relu')(input_image)\n",
    "x = MaxPool2D(2, strides=2)(x)\n",
    "x = Flatten()(x)\n",
    "x = Dense(256, activation='relu')(x)\n",
    "x = Dense(10, activation='softmax')(x)\n",
    "convnet1 = Model(inputs=input_image, outputs=x)\n",
    "\n",
    "input_image = Input(shape=(28, 28, 1))\n",
    "x = Conv2D(32, 5, activation='relu')(input_image)\n",
    "x = MaxPool2D(2, strides=2)(x)\n",
    "x = Conv2D(64, 3, activation='relu')(x)\n",
    "x = MaxPool2D(2, strides=2)(x)\n",
    "x = Flatten()(x)\n",
    "x = Dense(256, activation='relu')(x)\n",
    "x = Dense(10, activation='softmax')(x)\n",
    "convnet2 = Model(inputs=input_image, outputs=x)\n",
    "\n",
    "\n",
    "convnet1.compile(optimizer='adam',loss='categorical_crossentropy',metrics=['accuracy'])\n",
    "convnet2.compile(optimizer='adam',loss='categorical_crossentropy',metrics=['accuracy'])\n",
    "print('\\n','First model with 1 convolution','\\n')\n",
    "convnet1.summary()\n",
    "print('\\n','\\n','Second model with 2 convolutions','\\n')\n",
    "convnet2.summary()"
   ]
  },
  {
   "cell_type": "code",
   "execution_count": 4,
   "metadata": {},
   "outputs": [
    {
     "name": "stdout",
     "output_type": "stream",
     "text": [
      "Train on 50000 samples, validate on 10000 samples\n",
      "Epoch 1/10\n",
      "50000/50000 [==============================] - 19s 377us/step - loss: 0.4584 - acc: 0.8405 - val_loss: 0.3331 - val_acc: 0.8797\n",
      "Epoch 2/10\n",
      "50000/50000 [==============================] - 19s 384us/step - loss: 0.3057 - acc: 0.8923 - val_loss: 0.2925 - val_acc: 0.8919\n",
      "Epoch 3/10\n",
      "50000/50000 [==============================] - 19s 373us/step - loss: 0.2609 - acc: 0.9069 - val_loss: 0.2871 - val_acc: 0.8962\n",
      "Epoch 4/10\n",
      "50000/50000 [==============================] - 18s 363us/step - loss: 0.2316 - acc: 0.9148 - val_loss: 0.2730 - val_acc: 0.9007\n",
      "Epoch 5/10\n",
      "50000/50000 [==============================] - 18s 363us/step - loss: 0.2055 - acc: 0.9245 - val_loss: 0.2578 - val_acc: 0.9034\n",
      "Epoch 6/10\n",
      "50000/50000 [==============================] - 18s 364us/step - loss: 0.1855 - acc: 0.9320 - val_loss: 0.2561 - val_acc: 0.9064\n",
      "Epoch 7/10\n",
      "50000/50000 [==============================] - 18s 360us/step - loss: 0.1649 - acc: 0.9399 - val_loss: 0.2619 - val_acc: 0.9066\n",
      "Epoch 8/10\n",
      "50000/50000 [==============================] - 19s 377us/step - loss: 0.1476 - acc: 0.9466 - val_loss: 0.2591 - val_acc: 0.9062\n",
      "Epoch 9/10\n",
      "50000/50000 [==============================] - 18s 368us/step - loss: 0.1323 - acc: 0.9517 - val_loss: 0.2472 - val_acc: 0.9142\n",
      "Epoch 10/10\n",
      "50000/50000 [==============================] - 25s 499us/step - loss: 0.1175 - acc: 0.9571 - val_loss: 0.3001 - val_acc: 0.8988\n",
      "Train on 50000 samples, validate on 10000 samples\n",
      "Epoch 1/10\n",
      "50000/50000 [==============================] - 24s 487us/step - loss: 0.5405 - acc: 0.8066 - val_loss: 0.3766 - val_acc: 0.8621\n",
      "Epoch 2/10\n",
      "50000/50000 [==============================] - 22s 433us/step - loss: 0.3466 - acc: 0.8761 - val_loss: 0.3542 - val_acc: 0.8766\n",
      "Epoch 3/10\n",
      "50000/50000 [==============================] - 21s 413us/step - loss: 0.3028 - acc: 0.8905 - val_loss: 0.3170 - val_acc: 0.8855\n",
      "Epoch 4/10\n",
      "50000/50000 [==============================] - 19s 389us/step - loss: 0.2667 - acc: 0.9030 - val_loss: 0.2725 - val_acc: 0.9028\n",
      "Epoch 5/10\n",
      "50000/50000 [==============================] - 20s 397us/step - loss: 0.2402 - acc: 0.9124 - val_loss: 0.2693 - val_acc: 0.9036\n",
      "Epoch 6/10\n",
      "50000/50000 [==============================] - 20s 397us/step - loss: 0.2221 - acc: 0.9184 - val_loss: 0.2625 - val_acc: 0.9058\n",
      "Epoch 7/10\n",
      "50000/50000 [==============================] - 20s 407us/step - loss: 0.1995 - acc: 0.9260 - val_loss: 0.2490 - val_acc: 0.9084\n",
      "Epoch 8/10\n",
      "50000/50000 [==============================] - 20s 409us/step - loss: 0.1855 - acc: 0.9310 - val_loss: 0.2396 - val_acc: 0.9157\n",
      "Epoch 9/10\n",
      "50000/50000 [==============================] - 22s 431us/step - loss: 0.1715 - acc: 0.9371 - val_loss: 0.2619 - val_acc: 0.9071\n",
      "Epoch 10/10\n",
      "50000/50000 [==============================] - 21s 425us/step - loss: 0.1538 - acc: 0.9417 - val_loss: 0.2509 - val_acc: 0.9094\n"
     ]
    }
   ],
   "source": [
    "history_callback1 = convnet1.fit(X_train, y_train,batch_size=128,\n",
    "                               epochs=10, \n",
    "                               verbose=1,validation_data=(X_val, y_val))\n",
    "\n",
    "history_callback2 = convnet2.fit(X_train, y_train,batch_size=128,\n",
    "                               epochs=10, \n",
    "                               verbose=1,validation_data=(X_val, y_val))"
   ]
  },
  {
   "cell_type": "code",
   "execution_count": 103,
   "metadata": {},
   "outputs": [
    {
     "data": {
      "image/png": "[encoded data removed]",
      "text/plain": [
       "<matplotlib.figure.Figure at 0x7f27e07586a0>"
      ]
     },
     "metadata": {},
     "output_type": "display_data"
    },
    {
     "data": {
      "image/png": "[encoded data removed]",
      "text/plain": [
       "<matplotlib.figure.Figure at 0x7f27c49d7a20>"
      ]
     },
     "metadata": {},
     "output_type": "display_data"
    }
   ],
   "source": [
    "#plt.subplot(2,1,1)\n",
    "plt.plot(history_callback1.history['val_loss'], label='val_loss')\n",
    "plt.plot(history_callback1.history['loss'], label='loss')\n",
    "plt.ylim([0, None])\n",
    "plt.title('First model with 1 convolution')\n",
    "plt.legend()\n",
    "plt.show()\n",
    "\n",
    "#plt.subplot(2,1,2)\n",
    "plt.plot(history_callback2.history['val_loss'], label='val_loss')\n",
    "plt.plot(history_callback2.history['loss'], label='loss')\n",
    "plt.ylim([0, None])\n",
    "plt.title('Second model with 2 convolutions')\n",
    "plt.legend()\n",
    "plt.tight_layout()\n",
    "plt.show()\n",
    "\n"
   ]
  },
  {
   "cell_type": "markdown",
   "metadata": {},
   "source": [
    "## Question 2\n",
    "\n",
    "For most real world applications we do not have enough labelled images to train a large neural network from scratch. Instead we can use a pre-trained network as a feature transformer and train a smaller model (or even just a logistic regression) on the output of the pre-trained network.\n",
    "\n",
    "There are several pretrained networks available as part of keras: https://keras.io/applications/. The documentation usually gives some information or links about each network.\n",
    "\n",
    "The documentation also contains snippets on how to use a pre-trained network as feature transformer (\"Extract features with VGG16\"). You should be able to generalise from that example using VGG16 to approximately any of the networks available there.\n",
    "\n",
    "One important thing to not forget is that you need to preprocess your images before feeding them into a pretrained network. Keras provides the functions to do that as well, use them :) You might also need to resize your images first.\n",
    "\n",
    "The task for this question is to build a classifier that can tell road bikes from mountain bikes. Start with using a pre-trained network as feature transformer and logistic regression as classifier on the output of the pretrained network. Once this works you can experiment with extracting features from earlier layers of the pre-trained network, compare your performance to a small network trained from scratch, try to beat your neural net by extracting features by hand and feeding them to a random forest, increasing your dataset size by [augmenting the data](https://keras.io/preprocessing/image/), etc.\n",
    "\n",
    "The dataset containing about 100 labelled images for each road and mountain bikes is here: https://github.com/wildtreetech/advanced-computing-2018/blob/master/data/road-and-mountain-bikes.zip"
   ]
  },
  {
   "cell_type": "code",
   "execution_count": 98,
   "metadata": {},
   "outputs": [
    {
     "name": "stdout",
     "output_type": "stream",
     "text": [
      "(211,)\n",
      "(42, 224, 224, 3)\n",
      "(42,)\n"
     ]
    }
   ],
   "source": [
    "from keras import applications\n",
    "from keras.preprocessing import image\n",
    "from keras.applications.vgg16 import preprocess_input\n",
    "from sklearn.model_selection import train_test_split\n",
    "from keras.models import Model, Sequential\n",
    "from keras.layers import Input, Dense, Activation, Flatten\n",
    "import numpy as np\n",
    "import h5py\n",
    "import glob\n",
    "\n",
    "\n",
    "# for example load the VGG16 network\n",
    "model = applications.VGG16(include_top=False,weights='imagenet')\n",
    "\n",
    "img_path_mountain = 'bikes/mountain_bikes/*.jpg'\n",
    "img_path_road = 'bikes/road_bikes/*.jpg'\n",
    "\n",
    "mountain_bikes = glob.glob(img_path_mountain)\n",
    "road_bikes = glob.glob(img_path_road)\n",
    "\n",
    "bikes = np.append(mountain_bikes,road_bikes)\n",
    "labels = np.append(np.zeros(len(mountain_bikes)),np.ones(len(road_bikes)))\n",
    "\n",
    "print(bikes.shape)\n",
    "\n",
    "bikes_img = [image.load_img(bikes[i], target_size=(224, 224,3)) for i in range(len(bikes))]\n",
    "\n",
    "x = [image.img_to_array(bikes_img[i]) for i in range(len(bikes))]\n",
    "\n",
    "x = np.asarray(x)\n",
    "\n",
    "X_train,X_val,y_train,y_val = train_test_split(x,labels,test_size=.8,random_state=42)\n",
    "\n",
    "print(X_train.shape)\n",
    "print(y_train.shape)\n",
    "\n",
    "\n",
    "features_train = model.predict(X_train)\n",
    "features_val = model.predict(X_val)"
   ]
  },
  {
   "cell_type": "code",
   "execution_count": 99,
   "metadata": {},
   "outputs": [
    {
     "name": "stdout",
     "output_type": "stream",
     "text": [
      "25088\n",
      "(42, 25088)\n",
      "(169, 25088)\n"
     ]
    }
   ],
   "source": [
    "#print(features_train.shape)\n",
    "print(len(features_train[0].reshape(-1)))\n",
    "\n",
    "features_train = [features_train[i].reshape(-1) for i in range(len(features_train))]\n",
    "features_val = [features_val[i].reshape(-1) for i in range(len(features_val))]\n",
    "\n",
    "features_train = np.asarray(features_train)\n",
    "features_val = np.asarray(features_val)\n",
    "\n",
    "print(features_train.shape)\n",
    "print(features_val.shape)"
   ]
  },
  {
   "cell_type": "code",
   "execution_count": 100,
   "metadata": {},
   "outputs": [
    {
     "name": "stdout",
     "output_type": "stream",
     "text": [
      "_________________________________________________________________\n",
      "Layer (type)                 Output Shape              Param #   \n",
      "=================================================================\n",
      "input_49 (InputLayer)        (None, 25088)             0         \n",
      "_________________________________________________________________\n",
      "activation_60 (Activation)   (None, 25088)             0         \n",
      "_________________________________________________________________\n",
      "dense_58 (Dense)             (None, 10)                250890    \n",
      "_________________________________________________________________\n",
      "activation_61 (Activation)   (None, 10)                0         \n",
      "=================================================================\n",
      "Total params: 250,890\n",
      "Trainable params: 250,890\n",
      "Non-trainable params: 0\n",
      "_________________________________________________________________\n"
     ]
    }
   ],
   "source": [
    "num_classes = 2\n",
    "#y_train = utils.to_categorical(y_train, num_classes)\n",
    "#y_val = utils.to_categorical(y_val, num_classes)\n",
    "\n",
    "inputs = Input(shape=(features_train.shape[1],))\n",
    "\n",
    "#h = Dense(256, activation='relu')(inputs)\n",
    "#h = Dense(64, activation='relu')(h)\n",
    "h=Activation('tanh')(inputs)\n",
    "h = Dense(10)(h)\n",
    "#h = Activation('relu')(h)\n",
    "predictions = Activation('softmax')(h)\n",
    "\n",
    "model = Model(inputs=inputs, outputs=predictions)\n",
    "model.compile(optimizer='sgd',\n",
    "              loss='sparse_categorical_crossentropy',\n",
    "              metrics=['accuracy'])\n",
    "model.summary()"
   ]
  },
  {
   "cell_type": "code",
   "execution_count": 101,
   "metadata": {},
   "outputs": [
    {
     "name": "stdout",
     "output_type": "stream",
     "text": [
      "Score of the Random Forest Classifier  :   0.976331360947\n",
      "Score of the pre-trained NN Classifier :   1.0\n"
     ]
    }
   ],
   "source": [
    "history = model.fit(features_train, y_train,epochs=10,verbose=0,validation_data=(features_val, y_val))\n",
    "\n",
    "from sklearn.ensemble import RandomForestClassifier\n",
    "\n",
    "rfc = RandomForestClassifier()\n",
    "rfc.fit(features_train, y_train)\n",
    "\n",
    "rfc_score = rfc.score(features_val, y_val)\n",
    "print('Score of the Random Forest Classifier  :  ',rfc_score)\n",
    "print('Score of the pre-trained NN Classifier :  ',history.history['acc'][-1])"
   ]
  },
  {
   "cell_type": "markdown",
   "metadata": {},
   "source": [
    "We can see that both Random Forest and pre-trained neural networks are close. They get closer as we make the training set bigger, as would be expected.\n",
    "However, it would be difficult for a Random Forest Classifier to beat this neural network."
   ]
  },
  {
   "cell_type": "markdown",
   "metadata": {},
   "source": [
    "## Question 3\n",
    "\n",
    "Think about what project you want to do. What makes a good project? It should use some of what you learnt in this class, there should be labelled data available already, and it should be something you are interested in.\n",
    "\n",
    "You will have to write a short report on what you did. To write an interesting report you need to tell a story, not just first I did A, then I did B, then I did X and finally D.\n",
    "\n",
    "It also has to go a bit beyond simply training a classifier or regression model.\n",
    "\n",
    "An example based on the bike images from the previous question:\n",
    "\n",
    "A local bike shop wants to keep an eye on sales of bikes on ebay. They specialise in road bikes so they want to be able to filter out all adverts for mountain bikes. They have found that people writing ebay adverts are not very good at correctly labelling their adverts. Can they use machine-learning to help classify adverts?\n",
    "\n",
    "We investigate labelling adverts based on the image in the advert and study different trade offs in misclassifying bikes. The network was trained on 100 images from a catalog which show bikes on a white background. We compare the performance of the network on the training data and a small set of hand labelled images of bikes in the wild."
   ]
  },
  {
   "cell_type": "code",
   "execution_count": null,
   "metadata": {},
   "outputs": [],
   "source": []
  }
 ],
 "metadata": {
  "kernelspec": {
   "display_name": "Python 3",
   "language": "python",
   "name": "python3"
  },
  "language_info": {
   "codemirror_mode": {
    "name": "ipython",
    "version": 3
   },
   "file_extension": ".py",
   "mimetype": "text/x-python",
   "name": "python",
   "nbconvert_exporter": "python",
   "pygments_lexer": "ipython3",
   "version": "3.5.3"
  }
 },
 "nbformat": 4,
 "nbformat_minor": 2
}
